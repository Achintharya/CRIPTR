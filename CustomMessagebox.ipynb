{
 "cells": [
  {
   "cell_type": "code",
   "execution_count": 1,
   "metadata": {},
   "outputs": [],
   "source": [
    "import threading\n",
    "import customtkinter as ctk"
   ]
  },
  {
   "cell_type": "code",
   "execution_count": 2,
   "metadata": {},
   "outputs": [],
   "source": [
    "class CustomMessageBox(ctk.CTkToplevel):\n",
    "    def __init__(self, master, title=\"Message\", message=\"\", parent_x=0, parent_y=0):\n",
    "        super().__init__(master)\n",
    "        self.title(title)\n",
    "        window_width= 250\n",
    "        window_height= 150\n",
    "        self.setup_window(window_width, window_height, parent_x,parent_y)\n",
    "        self.create_widgets(message)\n",
    "        \n",
    "    def setup_window(self, window_width, window_height,parent_x,parent_y):\n",
    "        left = parent_x + (window_width - window_width) // 2\n",
    "        top = parent_y + (window_height - window_height) // 2\n",
    "        self.geometry(f\"{window_width}x{window_height}+{left}+{top}\")\n",
    "        self.grab_set()  # Make the message box modal\n",
    "\n",
    "    def create_widgets(self, message):\n",
    "        frame = ctk.CTkFrame(self)\n",
    "        frame.pack(padx=20, pady=20, fill=\"both\", expand=True)\n",
    "\n",
    "        label = ctk.CTkLabel(frame, text=message, wraplength=250)\n",
    "        label.pack(pady=10)\n",
    "\n",
    "        button = ctk.CTkButton(frame, text=\"OK\", command=self.destroy)\n",
    "        button.pack(pady=10)"
   ]
  },
  {
   "cell_type": "code",
   "execution_count": 3,
   "metadata": {},
   "outputs": [],
   "source": [
    "def show_custom_message(title=\"Message\", message=\"\", parent_x=0, parent_y=0):\n",
    "    root = ctk.CTk()\n",
    "    root.withdraw()  # Hide the root window\n",
    "    CustomMessageBox(root, title, message, parent_x, parent_y)\n",
    "    root.mainloop()"
   ]
  },
  {
   "cell_type": "code",
   "execution_count": 4,
   "metadata": {},
   "outputs": [],
   "source": [
    "def run_message_box(title=\"Info\", message=\"\", parent_x=0, parent_y=0):\n",
    "    thread = threading.Thread(target=show_custom_message, args=(title, message, parent_x, parent_y))\n",
    "    thread.start()"
   ]
  }
 ],
 "metadata": {
  "kernelspec": {
   "display_name": "Python 3",
   "language": "python",
   "name": "python3"
  },
  "language_info": {
   "codemirror_mode": {
    "name": "ipython",
    "version": 3
   },
   "file_extension": ".py",
   "mimetype": "text/x-python",
   "name": "python",
   "nbconvert_exporter": "python",
   "pygments_lexer": "ipython3",
   "version": "3.11.9"
  }
 },
 "nbformat": 4,
 "nbformat_minor": 2
}
